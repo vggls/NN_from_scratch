{
 "cells": [
  {
   "cell_type": "code",
   "execution_count": 1,
   "metadata": {},
   "outputs": [],
   "source": [
    "import numpy as np\n",
    "import matplotlib.pyplot as plt\n",
    "from sklearn.model_selection import train_test_split\n",
    "from sklearn.metrics import accuracy_score\n",
    "from sklearn.datasets import make_moons"
   ]
  },
  {
   "cell_type": "code",
   "execution_count": 2,
   "metadata": {},
   "outputs": [
    {
     "name": "stdout",
     "output_type": "stream",
     "text": [
      "importing Jupyter notebook from Class_TwoLayerNN.ipynb\n"
     ]
    }
   ],
   "source": [
    "# import TwoLayerNN class from the other notebook\n",
    "import import_ipynb\n",
    "import Class_TwoLayerNN"
   ]
  },
  {
   "cell_type": "markdown",
   "metadata": {},
   "source": [
    "#### The task : Classify dataset using the network that we build in the \"Class_TwoLayerNN.ipynb\" file"
   ]
  },
  {
   "cell_type": "code",
   "execution_count": 11,
   "metadata": {},
   "outputs": [],
   "source": [
    "x,y = make_moons(n_samples=400, shuffle=False, noise=.15)"
   ]
  },
  {
   "cell_type": "code",
   "execution_count": 17,
   "metadata": {},
   "outputs": [
    {
     "data": {
      "text/plain": [
       "<matplotlib.legend.Legend at 0x267826c5f28>"
      ]
     },
     "execution_count": 17,
     "metadata": {},
     "output_type": "execute_result"
    },
    {
     "data": {
      "image/png": "[encoded data removed]",
      "text/plain": [
       "<Figure size 432x288 with 1 Axes>"
      ]
     },
     "metadata": {
      "needs_background": "light"
     },
     "output_type": "display_data"
    }
   ],
   "source": [
    "#scatter plot of data\n",
    "plt.scatter(x[:200,0],x[:200,1], color = 'green')\n",
    "plt.scatter(x[200:,0],x[200:,1], color = 'black')\n",
    "plt.legend(('label 0','label 1'))"
   ]
  },
  {
   "cell_type": "code",
   "execution_count": 12,
   "metadata": {},
   "outputs": [],
   "source": [
    "x_train, x_test, y_train, y_test=train_test_split(x,y,test_size=0.1)\n",
    "\n",
    "x_trainval, x_val, y_trainval, y_val=train_test_split(x_train,y_train,test_size=0.1)"
   ]
  },
  {
   "cell_type": "code",
   "execution_count": 13,
   "metadata": {
    "collapsed": true
   },
   "outputs": [
    {
     "name": "stderr",
     "output_type": "stream",
     "text": [
      "Class_TwoLayerNN.ipynb:38: RuntimeWarning: overflow encountered in matmul\n",
      "  \"        \\n\",\n",
      "Class_TwoLayerNN.ipynb:45: RuntimeWarning: invalid value encountered in multiply\n",
      "  \"         minibatch_values= np.dot(self.layer2,self.W2) + self.bias3  \\n\",\n",
      "Class_TwoLayerNN.ipynb:51: RuntimeWarning: invalid value encountered in multiply\n",
      "  \"         \\n\",\n",
      "Class_TwoLayerNN.ipynb:45: RuntimeWarning: invalid value encountered in greater_equal\n",
      "  \"         minibatch_values= np.dot(self.layer2,self.W2) + self.bias3  \\n\",\n",
      "Class_TwoLayerNN.ipynb:51: RuntimeWarning: invalid value encountered in greater_equal\n",
      "  \"         \\n\",\n",
      "C:\\Users\\Vaggelis\\Anaconda3\\lib\\site-packages\\ipykernel_launcher.py:20: RuntimeWarning: invalid value encountered in greater\n",
      "Class_TwoLayerNN.ipynb:41: RuntimeWarning: invalid value encountered in multiply\n",
      "  \"         size=self.minibatch.shape[0]\\n\",\n",
      "Class_TwoLayerNN.ipynb:45: RuntimeWarning: invalid value encountered in matmul\n",
      "  \"         minibatch_values= np.dot(self.layer2,self.W2) + self.bias3  \\n\",\n",
      "Class_TwoLayerNN.ipynb:41: RuntimeWarning: overflow encountered in multiply\n",
      "  \"         size=self.minibatch.shape[0]\\n\",\n",
      "C:\\Users\\Vaggelis\\Anaconda3\\lib\\site-packages\\numpy\\core\\fromnumeric.py:86: RuntimeWarning: overflow encountered in reduce\n",
      "  return ufunc.reduce(obj, axis, dtype, out, **passkwargs)\n",
      "Class_TwoLayerNN.ipynb:26: RuntimeWarning: invalid value encountered in add\n",
      "  \"        \\\"\\\"\\\"\\n\",\n",
      "C:\\Users\\Vaggelis\\Anaconda3\\lib\\site-packages\\numpy\\core\\fromnumeric.py:86: RuntimeWarning: invalid value encountered in reduce\n",
      "  return ufunc.reduce(obj, axis, dtype, out, **passkwargs)\n"
     ]
    }
   ],
   "source": [
    "# hyperparameters tuning\n",
    "\n",
    "best_score = 0\n",
    "\n",
    "hidden_neurons = np.arange(5,15)\n",
    "learning_rates = [0.05, 0.08, 0.1, 0.12, 0,15] \n",
    "minibatch_sizes = [10, 20, 30, 40] \n",
    "iterations = [40000, 45000, 50000] \n",
    "\n",
    "for hidden_neuron in hidden_neurons :\n",
    "    for learning_rate in learning_rates :\n",
    "        for minibatch_size in minibatch_sizes :\n",
    "            for iteration in iterations : \n",
    "\n",
    "                # the model\n",
    "                nn = Class_TwoLayerNN.TwoLayerNN(2,hidden_neuron)    \n",
    "                # train the model\n",
    "                nn.sgd(x_trainval, y_trainval, learning_rate, minibatch_size,iteration) \n",
    "                # accuracy over validation set\n",
    "                score = accuracy_score(y_val , np.where(nn.feedForward(x_val) > 1/2, 1, 0)  )\n",
    "\n",
    "                if score > best_score :\n",
    "                    best_score = score\n",
    "                    opt_param = {'hidden_neurons' : hidden_neuron,\n",
    "                                'learning_rate' : learning_rate,\n",
    "                                'minibatch_size' : minibatch_size,\n",
    "                                'iterations' : iteration}\n"
   ]
  },
  {
   "cell_type": "code",
   "execution_count": 14,
   "metadata": {},
   "outputs": [
    {
     "name": "stdout",
     "output_type": "stream",
     "text": [
      "The optimal parameters are  {'hidden_neurons': 8, 'learning_rate': 0.08, 'minibatch_size': 10, 'iterations': 40000}\n"
     ]
    }
   ],
   "source": [
    "# final model\n",
    "print('The optimal parameters are ', opt_param)\n",
    "model = Class_TwoLayerNN.TwoLayerNN(2, opt_param['hidden_neurons'])\n",
    "# training\n",
    "model.sgd(x_train,y_train,opt_param['learning_rate'],opt_param['minibatch_size'],opt_param['iterations'])\n",
    "# accuracy over the useen data of the test set\n",
    "model_score = accuracy_score(y_test , np.where(model.feedForward(x_test) > 1/2 ,1,0)  )"
   ]
  },
  {
   "cell_type": "code",
   "execution_count": 15,
   "metadata": {},
   "outputs": [
    {
     "data": {
      "text/plain": [
       "0.95"
      ]
     },
     "execution_count": 15,
     "metadata": {},
     "output_type": "execute_result"
    }
   ],
   "source": [
    "model_score"
   ]
  },
  {
   "cell_type": "code",
   "execution_count": 16,
   "metadata": {},
   "outputs": [
    {
     "data": {
      "text/plain": [
       "<matplotlib.contour.QuadContourSet at 0x26782642ef0>"
      ]
     },
     "execution_count": 16,
     "metadata": {},
     "output_type": "execute_result"
    },
    {
     "data": {
      "image/png": "[encoded data removed]",
      "text/plain": [
       "<Figure size 432x288 with 1 Axes>"
      ]
     },
     "metadata": {
      "needs_background": "light"
     },
     "output_type": "display_data"
    }
   ],
   "source": [
    "# plotting the classifier\n",
    "\n",
    "plt.figure()\n",
    "    \n",
    "#scatter plot of data\n",
    "plt.scatter(x[:200,0],x[:200,1], color = 'green')\n",
    "plt.scatter(x[200:,0],x[200:,1], color = 'black')\n",
    "plt.legend(('label 0','label 1'))\n",
    "\n",
    "#contour line of learned classifier\n",
    "x_min = x[:,0].min()\n",
    "y_min = x[:,1].min()\n",
    "x_max = x[:,0].max()\n",
    "y_max = x[:,1].max()\n",
    "\n",
    "u = np.linspace(x_min,x_max, 20)\n",
    "v = np.linspace(y_min,y_max, 20)\n",
    "xx, yy = np.meshgrid(u,v) \n",
    "xx_line = np.resize(xx,(20**2,1))\n",
    "yy_line = np.resize(yy,(20**2,1))         \n",
    "t = np.concatenate((xx_line,yy_line), axis = 1)\n",
    "z_pre=model.feedForward(t)\n",
    "z_post = np.resize(z_pre,(20,20))  \n",
    "plt.contour(xx,yy,z_post, levels = [1/2])"
   ]
  },
  {
   "cell_type": "code",
   "execution_count": null,
   "metadata": {},
   "outputs": [],
   "source": []
  }
 ],
 "metadata": {
  "kernelspec": {
   "display_name": "Python 3",
   "language": "python",
   "name": "python3"
  },
  "language_info": {
   "codemirror_mode": {
    "name": "ipython",
    "version": 3
   },
   "file_extension": ".py",
   "mimetype": "text/x-python",
   "name": "python",
   "nbconvert_exporter": "python",
   "pygments_lexer": "ipython3",
   "version": "3.7.3"
  }
 },
 "nbformat": 4,
 "nbformat_minor": 2
}
