{
 "cells": [
  {
   "cell_type": "code",
   "execution_count": 1,
   "metadata": {},
   "outputs": [],
   "source": [
    "import numpy as np\n",
    "import matplotlib.pyplot as plt\n",
    "from sklearn.model_selection import train_test_split\n",
    "from sklearn.metrics import accuracy_score"
   ]
  },
  {
   "cell_type": "code",
   "execution_count": 2,
   "metadata": {},
   "outputs": [
    {
     "name": "stdout",
     "output_type": "stream",
     "text": [
      "importing Jupyter notebook from OneHiddenLayerNN_class.ipynb\n"
     ]
    }
   ],
   "source": [
    "# import the neural network class from the other notebook\n",
    "import import_ipynb\n",
    "import OneHiddenLayerNN_class"
   ]
  },
  {
   "cell_type": "markdown",
   "metadata": {},
   "source": [
    "#### The task : Classify dataset using the network that we build in the \"OneHiddenLayerNN_class.ipynb\" file"
   ]
  },
  {
   "cell_type": "code",
   "execution_count": 3,
   "metadata": {},
   "outputs": [],
   "source": [
    "# We draw 250 uniformly distributed points in R^2 with norm  ≤ 1 and label them by yi = −1, and then another\n",
    "# 250 uniformly distributed points x^i in R2 with norm between 1 and 2 and label them by yi = 1.\n",
    "\n",
    "n = 250\n",
    "\n",
    "#dataset\n",
    "p = np.zeros((n,2))\n",
    "lenght = np.sqrt(np.random.uniform(0, 1,n)) \n",
    "angle = np.pi*np.random.uniform(0, 2,n)     \n",
    "p[:,0] = lenght*np.cos(angle)\n",
    "p[:,1] = lenght*np.sin(angle)\n",
    "\n",
    "q = np.zeros((n,2))\n",
    "lenght = np.sqrt(np.random.uniform(1, 4,n))  \n",
    "angle = np.pi*np.random.uniform(0, 2,n)\n",
    "q[:,0] = lenght*np.cos(angle)\n",
    "q[:,1] = lenght*np.sin(angle)\n",
    "\n",
    "X = np.concatenate((p,q))\n",
    "\n",
    "#labels\n",
    "y_1 = - np.ones(p.shape[0])\n",
    "y_2 = np.ones(q.shape[0])\n",
    "y = np.concatenate((y_1,y_2))"
   ]
  },
  {
   "cell_type": "code",
   "execution_count": 4,
   "metadata": {},
   "outputs": [
    {
     "data": {
      "text/plain": [
       "<matplotlib.legend.Legend at 0x22311d3b780>"
      ]
     },
     "execution_count": 4,
     "metadata": {},
     "output_type": "execute_result"
    },
    {
     "data": {
      "image/png": "[encoded data removed]",
      "text/plain": [
       "<Figure size 432x288 with 1 Axes>"
      ]
     },
     "metadata": {
      "needs_background": "light"
     },
     "output_type": "display_data"
    }
   ],
   "source": [
    "plt.scatter(p[:,0],p[:,1],color='blue')\n",
    "plt.scatter(q[:,0],q[:,1],color='red')\n",
    "plt.legend(('label -1','label 1'))"
   ]
  },
  {
   "cell_type": "code",
   "execution_count": 5,
   "metadata": {},
   "outputs": [],
   "source": [
    "x_train, x_test, y_train, y_test=train_test_split(X,y,test_size=0.1)\n",
    "x_trainval, x_val, y_trainval, y_val=train_test_split(x_train,y_train,test_size=0.1)"
   ]
  },
  {
   "cell_type": "code",
   "execution_count": 6,
   "metadata": {},
   "outputs": [
    {
     "name": "stderr",
     "output_type": "stream",
     "text": [
      "OneHiddenLayerNN_class.ipynb:35: RuntimeWarning: overflow encountered in matmul\n",
      "  \"        self.b1=2*np.random.uniform(0,1,self.d1)-1 \\n\",\n",
      "OneHiddenLayerNN_class.ipynb:38: RuntimeWarning: invalid value encountered in matmul\n",
      "  \"     def forward_pass (self, minibatch):\\n\",\n",
      "OneHiddenLayerNN_class.ipynb:39: RuntimeWarning: invalid value encountered in multiply\n",
      "  \"        size = minibatch.shape[0]\\n\",\n",
      "OneHiddenLayerNN_class.ipynb:41: RuntimeWarning: invalid value encountered in multiply\n",
      "  \"            \\n\",\n",
      "OneHiddenLayerNN_class.ipynb:39: RuntimeWarning: invalid value encountered in greater_equal\n",
      "  \"        size = minibatch.shape[0]\\n\",\n",
      "OneHiddenLayerNN_class.ipynb:41: RuntimeWarning: invalid value encountered in greater_equal\n",
      "  \"            \\n\",\n",
      "C:\\Users\\Vaggelis\\Anaconda3\\lib\\site-packages\\ipykernel_launcher.py:20: RuntimeWarning: invalid value encountered in greater\n",
      "OneHiddenLayerNN_class.ipynb:38: RuntimeWarning: overflow encountered in matmul\n",
      "  \"     def forward_pass (self, minibatch):\\n\",\n",
      "OneHiddenLayerNN_class.ipynb:39: RuntimeWarning: invalid value encountered in matmul\n",
      "  \"        size = minibatch.shape[0]\\n\",\n"
     ]
    }
   ],
   "source": [
    "# hyperparameters tuning with Grid Search\n",
    "\n",
    "best_score = 0\n",
    "\n",
    "hidden_neurons = [4, 6, 8, 12]\n",
    "learning_rates = [0.05, 0,15, 0.3] \n",
    "minibatch_sizes = [50, 125]\n",
    "iterations = [1000, 4000, 10000, 30000] \n",
    "\n",
    "for hidden_neuron in hidden_neurons :\n",
    "    for learning_rate in learning_rates :\n",
    "        for minibatch_size in minibatch_sizes :\n",
    "            for iteration in iterations : \n",
    "\n",
    "                # the model\n",
    "                nn = OneHiddenLayerNN_class.OneHiddenLayerNN(2,hidden_neuron)    \n",
    "                # train the model\n",
    "                nn.sgd(x_trainval, y_trainval, learning_rate, minibatch_size,iteration) \n",
    "                # accuracy over validation set\n",
    "                score = accuracy_score(y_val , np.where(nn.forward_pass(x_val)[0]>0,1,-1)  )\n",
    "\n",
    "                if score > best_score :\n",
    "                    best_score = score\n",
    "                    opt_param = {'hidden_neurons' : hidden_neuron,\n",
    "                                'learning_rate' : learning_rate,\n",
    "                                'minibatch_size' : minibatch_size,\n",
    "                                'iterations' : iteration}"
   ]
  },
  {
   "cell_type": "code",
   "execution_count": 7,
   "metadata": {},
   "outputs": [
    {
     "name": "stdout",
     "output_type": "stream",
     "text": [
      "The optimal parameters are  {'hidden_neurons': 6, 'learning_rate': 0.05, 'minibatch_size': 50, 'iterations': 10000}\n"
     ]
    }
   ],
   "source": [
    "print('The optimal parameters are ', opt_param)\n",
    "# final model\n",
    "model = OneHiddenLayerNN_class.OneHiddenLayerNN(2, opt_param['hidden_neurons'])\n",
    "# training\n",
    "model.sgd(x_train,y_train,opt_param['learning_rate'],opt_param['minibatch_size'],opt_param['iterations'])\n",
    "# accuracy over the useen data of the test set\n",
    "model_score = accuracy_score(y_test , np.where(model.forward_pass(x_test)[0]>0,1,-1)  )"
   ]
  },
  {
   "cell_type": "code",
   "execution_count": 8,
   "metadata": {},
   "outputs": [
    {
     "data": {
      "text/plain": [
       "0.98"
      ]
     },
     "execution_count": 8,
     "metadata": {},
     "output_type": "execute_result"
    }
   ],
   "source": [
    "model_score"
   ]
  },
  {
   "cell_type": "code",
   "execution_count": 9,
   "metadata": {},
   "outputs": [
    {
     "data": {
      "text/plain": [
       "<matplotlib.contour.QuadContourSet at 0x22312e0aef0>"
      ]
     },
     "execution_count": 9,
     "metadata": {},
     "output_type": "execute_result"
    },
    {
     "data": {
      "image/png": "[encoded data removed]",
      "text/plain": [
       "<Figure size 432x288 with 1 Axes>"
      ]
     },
     "metadata": {
      "needs_background": "light"
     },
     "output_type": "display_data"
    }
   ],
   "source": [
    "# plotting the classifier\n",
    "\n",
    "plt.figure()\n",
    "    \n",
    "#scatter plot of data\n",
    "plt.scatter(p[:,0],p[:,1],color='blue')\n",
    "plt.scatter(q[:,0],q[:,1],color='red')\n",
    "plt.legend(('label -1','label 1'))\n",
    "\n",
    "#contour line of learned classifier\n",
    "x_min = X[:,0].min()\n",
    "y_min = X[:,1].min()\n",
    "x_max = X[:,0].max()\n",
    "y_max = X[:,1].max()\n",
    "\n",
    "u = np.linspace(x_min,x_max, 20)\n",
    "v = np.linspace(y_min,y_max, 20)\n",
    "xx, yy = np.meshgrid(u,v) \n",
    "xx_line = np.resize(xx,(20**2,1))\n",
    "yy_line = np.resize(yy,(20**2,1))         \n",
    "t = np.concatenate((xx_line,yy_line), axis = 1)\n",
    "z_pre=model.forward_pass(t)[0]\n",
    "z_post = np.resize(z_pre,(20,20))  \n",
    "plt.contour(xx,yy,z_post, levels = [0])"
   ]
  },
  {
   "cell_type": "code",
   "execution_count": null,
   "metadata": {},
   "outputs": [],
   "source": []
  }
 ],
 "metadata": {
  "kernelspec": {
   "display_name": "Python 3",
   "language": "python",
   "name": "python3"
  },
  "language_info": {
   "codemirror_mode": {
    "name": "ipython",
    "version": 3
   },
   "file_extension": ".py",
   "mimetype": "text/x-python",
   "name": "python",
   "nbconvert_exporter": "python",
   "pygments_lexer": "ipython3",
   "version": "3.7.3"
  }
 },
 "nbformat": 4,
 "nbformat_minor": 2
}
